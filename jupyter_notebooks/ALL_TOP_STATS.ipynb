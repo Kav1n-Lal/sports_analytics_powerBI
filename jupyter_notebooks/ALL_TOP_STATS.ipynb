{
 "cells": [
  {
   "cell_type": "code",
   "execution_count": 1,
   "id": "bd6eda25",
   "metadata": {},
   "outputs": [],
   "source": [
    "import pandas as pd\n",
    "import numpy as np\n",
    "import matplotlib.pyplot as plt\n",
    "#! pip install seaborn\n",
    "import seaborn as sns\n",
    "import ast"
   ]
  },
  {
   "cell_type": "code",
   "execution_count": 2,
   "id": "5778dc96",
   "metadata": {},
   "outputs": [
    {
     "data": {
      "text/plain": [
       "8149"
      ]
     },
     "execution_count": 2,
     "metadata": {},
     "output_type": "execute_result"
    }
   ],
   "source": [
    "a=['bangladeshi','english','indian','irish','newzealander','southafrican','srilankan','westindies','zimbabwean']\n",
    "b=[]\n",
    "for i in a:\n",
    "    df=pd.read_csv(f'{i}_batting_stats.csv')\n",
    "    b.append(df)\n",
    "df1=pd.concat(b,ignore_index=True)\n",
    "len(df1)"
   ]
  },
  {
   "cell_type": "code",
   "execution_count": 3,
   "id": "b63312d3",
   "metadata": {},
   "outputs": [
    {
     "data": {
      "text/plain": [
       "array(['bangladesh', 'england', 'india', 'ireland', 'newzealand',\n",
       "       'southafrica', 'srilanka', 'westindies', 'zimbabwe'], dtype=object)"
      ]
     },
     "execution_count": 3,
     "metadata": {},
     "output_type": "execute_result"
    }
   ],
   "source": [
    "df1['nation'].unique()"
   ]
  },
  {
   "cell_type": "code",
   "execution_count": 4,
   "id": "9d5568db",
   "metadata": {},
   "outputs": [],
   "source": [
    "df1.to_csv('ALL_NATIONS_BATTING_STATS.csv',encoding='utf-8')"
   ]
  },
  {
   "cell_type": "code",
   "execution_count": 5,
   "id": "cfaff403",
   "metadata": {},
   "outputs": [
    {
     "data": {
      "text/plain": [
       "8149"
      ]
     },
     "execution_count": 5,
     "metadata": {},
     "output_type": "execute_result"
    }
   ],
   "source": [
    "a=['bangladeshi','english','indian','irish','newzealander','southafrican','srilankan','westindies','zimbabwean']\n",
    "b=[]\n",
    "for i in a:\n",
    "    df=pd.read_csv(f'{i}_bowling_stats.csv')\n",
    "    b.append(df)\n",
    "df1=pd.concat(b,ignore_index=True)\n",
    "len(df1)"
   ]
  },
  {
   "cell_type": "code",
   "execution_count": 6,
   "id": "39ec81dd",
   "metadata": {},
   "outputs": [],
   "source": [
    "df1.to_csv('ALL_NATIONS_BOWLING_STATS.csv',encoding='utf-8')"
   ]
  },
  {
   "cell_type": "code",
   "execution_count": null,
   "id": "55bf4fca",
   "metadata": {},
   "outputs": [],
   "source": []
  }
 ],
 "metadata": {
  "kernelspec": {
   "display_name": "Python 3 (ipykernel)",
   "language": "python",
   "name": "python3"
  },
  "language_info": {
   "codemirror_mode": {
    "name": "ipython",
    "version": 3
   },
   "file_extension": ".py",
   "mimetype": "text/x-python",
   "name": "python",
   "nbconvert_exporter": "python",
   "pygments_lexer": "ipython3",
   "version": "3.11.5"
  }
 },
 "nbformat": 4,
 "nbformat_minor": 5
}
